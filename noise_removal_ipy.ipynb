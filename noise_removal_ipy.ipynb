{
  "nbformat": 4,
  "nbformat_minor": 0,
  "metadata": {
    "colab": {
      "provenance": [],
      "authorship_tag": "ABX9TyO8e8tnyWUr1+ObX8HUT2m+",
      "include_colab_link": true
    },
    "kernelspec": {
      "name": "python3",
      "display_name": "Python 3"
    },
    "language_info": {
      "name": "python"
    }
  },
  "cells": [
    {
      "cell_type": "markdown",
      "metadata": {
        "id": "view-in-github",
        "colab_type": "text"
      },
      "source": [
        "<a href=\"https://colab.research.google.com/github/Deepikapanchakarla/FML/blob/main/noise_removal_ipy.ipynb\" target=\"_parent\"><img src=\"https://colab.research.google.com/assets/colab-badge.svg\" alt=\"Open In Colab\"/></a>"
      ]
    },
    {
      "cell_type": "code",
      "execution_count": 5,
      "metadata": {
        "id": "F7o-e0kMx8q-"
      },
      "outputs": [],
      "source": [
        "import nltk\n",
        "from nltk.corpus import stopwords\n",
        "from nltk.tokenize import word_tokenize\n",
        "import string"
      ]
    },
    {
      "cell_type": "code",
      "source": [
        "import nltk\n",
        "from nltk.corpus import stopwords\n",
        "nltk.download('stopwords')\n",
        "nltk.download('punkt')\n",
        "from nltk.tokenize import word_tokenize\n",
        "import string\n",
        "def punct_removal(sentence):\n",
        "  for i in sentence:\n",
        "    if i in string.punctuation:\n",
        "      sentence=sentence.replace(i,\"\")\n",
        "  return sentence\n",
        "def wordremoval(sentence):\n",
        "  stop_words=set(stopwords.words('english'))\n",
        "  word_tokens=word_tokenize(sentence)\n",
        "  filtered=[]\n",
        "  for i in word_tokens:\n",
        "    if i not in stop_words:\n",
        "      filtered.append(i)\n",
        "  return filtered\n",
        "text=\"hiii,deepika!!!\"\n",
        "text=punct_removal(text)\n",
        "print(f\"{text}\")\n",
        "text=\"\".join(wordremoval(text))\n",
        "print(f\"{text}\")"
      ],
      "metadata": {
        "colab": {
          "base_uri": "https://localhost:8080/"
        },
        "id": "psQ4hzZTy12v",
        "outputId": "2060b642-debd-4fb0-ab6f-d2198129241a"
      },
      "execution_count": 18,
      "outputs": [
        {
          "output_type": "stream",
          "name": "stdout",
          "text": [
            "hiiideepika\n",
            "hiiideepika\n"
          ]
        },
        {
          "output_type": "stream",
          "name": "stderr",
          "text": [
            "[nltk_data] Downloading package stopwords to /root/nltk_data...\n",
            "[nltk_data]   Package stopwords is already up-to-date!\n",
            "[nltk_data] Downloading package punkt to /root/nltk_data...\n",
            "[nltk_data]   Package punkt is already up-to-date!\n"
          ]
        }
      ]
    }
  ]
}