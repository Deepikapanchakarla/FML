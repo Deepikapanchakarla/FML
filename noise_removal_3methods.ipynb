{
  "nbformat": 4,
  "nbformat_minor": 0,
  "metadata": {
    "colab": {
      "provenance": [],
      "authorship_tag": "ABX9TyNx6I36QxNQMwIdwyHqY/xa",
      "include_colab_link": true
    },
    "kernelspec": {
      "name": "python3",
      "display_name": "Python 3"
    },
    "language_info": {
      "name": "python"
    }
  },
  "cells": [
    {
      "cell_type": "markdown",
      "metadata": {
        "id": "view-in-github",
        "colab_type": "text"
      },
      "source": [
        "<a href=\"https://colab.research.google.com/github/Deepikapanchakarla/FML/blob/main/noise_removal_3methods.ipynb\" target=\"_parent\"><img src=\"https://colab.research.google.com/assets/colab-badge.svg\" alt=\"Open In Colab\"/></a>"
      ]
    },
    {
      "cell_type": "code",
      "execution_count": 7,
      "metadata": {
        "colab": {
          "base_uri": "https://localhost:8080/"
        },
        "id": "iWAXmYph22H4",
        "outputId": "2a433a70-b810-414d-8da5-6c448013c891"
      },
      "outputs": [
        {
          "output_type": "stream",
          "name": "stdout",
          "text": [
            "['hiii', 'deepika.', 'she']\n",
            "['hiii deepika', ' she']\n"
          ]
        }
      ],
      "source": [
        "text=\"hiii deepika. she\"\n",
        "tokens=text.split()\n",
        "print(tokens)\n",
        "sentence=text.split('.')\n",
        "print(sentence)"
      ]
    },
    {
      "cell_type": "code",
      "source": [
        "text=\"hiiii hello!\"\n",
        "import re\n",
        "tokens=re.findall(\"[\\w']+\",text)\n",
        "print(tokens)\n",
        "sentences=re.compile('[.!?]').split(text)\n",
        "print(sentences)"
      ],
      "metadata": {
        "colab": {
          "base_uri": "https://localhost:8080/"
        },
        "id": "xlLUH4Q234G5",
        "outputId": "ae68b7ce-60ba-4c40-d7a0-52836119495b"
      },
      "execution_count": 11,
      "outputs": [
        {
          "output_type": "stream",
          "name": "stdout",
          "text": [
            "['hiiii', 'hello']\n",
            "['hiiii hello', '']\n"
          ]
        }
      ]
    },
    {
      "cell_type": "code",
      "source": [
        "import nltk\n",
        "nltk.download('punkt')\n",
        "text=\"hiii this. is\"\n",
        "from nltk.tokenize import word_tokenize\n",
        "from nltk.tokenize import sent_tokenize\n",
        "tokens=word_tokenize(text)\n",
        "sentences=sent_tokenize(text)\n",
        "print(tokens)\n",
        "print(sentences)\n",
        "\n"
      ],
      "metadata": {
        "colab": {
          "base_uri": "https://localhost:8080/"
        },
        "id": "iZleIKHZ4uzl",
        "outputId": "832dac09-1efa-4881-f620-52035ee47ea2"
      },
      "execution_count": 15,
      "outputs": [
        {
          "output_type": "stream",
          "name": "stderr",
          "text": [
            "[nltk_data] Downloading package punkt to /root/nltk_data...\n",
            "[nltk_data]   Unzipping tokenizers/punkt.zip.\n"
          ]
        },
        {
          "output_type": "stream",
          "name": "stdout",
          "text": [
            "['hiii', 'this', '.', 'is']\n",
            "['hiii this.', 'is']\n"
          ]
        }
      ]
    }
  ]
}